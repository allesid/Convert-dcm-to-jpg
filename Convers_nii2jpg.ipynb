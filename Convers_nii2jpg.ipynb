{
 "cells": [
  {
   "cell_type": "code",
   "execution_count": 3,
   "metadata": {},
   "outputs": [
    {
     "name": "stderr",
     "output_type": "stream",
     "text": [
      "100%|██████████| 552/552 [00:01<00:00, 282.70it/s]\n",
      "100%|██████████| 552/552 [00:02<00:00, 244.37it/s]\n"
     ]
    }
   ],
   "source": [
    "# Convert Nifti (nii) images to jpg images\n",
    "\n",
    "import nibabel as nib\n",
    "from nibabel.viewers import OrthoSlicer3D\n",
    "import os\n",
    "import cv2\n",
    "# import pandas as pd\n",
    "import numpy as np\n",
    "import sys\n",
    "from tqdm import tqdm\n",
    "import matplotlib.pyplot as plt\n",
    "\n",
    "def convers_nii2jpg(nii_folder_path=\"nii_imgs\", jpg_folder_path=\"JPG_imgs\"):\n",
    "    # ,img_info_fn=\"Images3D_information.csv\"):\n",
    "    \"\"\"\n",
    "    Read images in 3D .nii format and convert them into .jpg images.\n",
    "    Also extract image information from .nii image into .csv file.\n",
    "    File \"dicom_image_description.csv\" consist of all available dicom image attributes and must be present in scripts directory.\n",
    "\n",
    "    Inputs:\n",
    "    nii_folder_path:  Specify the folder path for .nii 3D images. Default: \"nii_imgs_3D\".\n",
    "    jpg_folder_path:  Specify the folder path for .jpg 3D images. Default: \"JPG_imgs_3D\".\n",
    "                        If jpg_folder_path is missing, create default folder.\n",
    "    img_info_fn:         Specify name for image information file. Default: \"Images3D_information.csv\"\n",
    "\n",
    "    Returns:\n",
    "    None\n",
    "    \"\"\"\n",
    "\n",
    "    if os.path.exists(nii_folder_path):\n",
    "        images_path = os.listdir(nii_folder_path)\n",
    "    else:\n",
    "        print(\n",
    "            f\"Folder path for .nii 3D images is missing. Create {nii_folder_path} folder and copy .nii 3D images into it\")\n",
    "        sys.exit(0)\n",
    "\n",
    "    if not os.path.exists(jpg_folder_path):\n",
    "        print(\n",
    "            f\"Folder path for .jpg 3D images is missing. Creating one: {jpg_folder_path}\")\n",
    "        os.mkdir(jpg_folder_path)\n",
    "\n",
    "    # file \"dicom_image_description.csv\" consist of all available dicom image attributes\n",
    "    # nifti_image_description_file = \"nifti_image_description.csv\"\n",
    "    # if os.path.exists(nii_folder_path):\n",
    "        # params = pd.read_csv(nifti_image_description_file)\n",
    "    # else:\n",
    "        # print(f\"File {dicom_image_description_file} is absent.\")\n",
    "        # sys.exit(0)\n",
    "\n",
    "    # Conversion\n",
    "    for n, image in enumerate(images_path):\n",
    "        if not image.endswith(\".nii.gz\"):\n",
    "            continue\n",
    "        img_path = os.path.join(nii_folder_path, image)\n",
    "        # print(img_path)\n",
    "        img = nib.load(img_path).get_fdata()\n",
    "        img = (img - img.min()) / (img.max() - img.min()) * 255\n",
    "        # print(img.shape)\n",
    "        image = image.replace('.nii.gz', '')\n",
    "        for i in tqdm(range(img.shape[2])):   # Прокрутите срез\n",
    "            img_2d = img[:, :, i]  # Вынуть изображение\n",
    "            # print(img_2d[232:270,232:270])\n",
    "\n",
    "            # plt.imshow(img_2d)  # отображаемое изображение\n",
    "            # plt.pause(0.001)\n",
    "            cv2.imwrite(os.path.join(jpg_folder_path,\n",
    "                        image+\"_\"+str(i)+'.jpg'), img_2d)\n",
    "\n",
    "\n",
    "if __name__ == '__main__':\n",
    "    # import argparse\n",
    "    # parser = argparse.ArgumentParser()\n",
    "    # parser.add_argument('-n', '--niipath', default=\"nii_imgs_3D\",\n",
    "                        # help='Specify the folder path for .nii 3D images. Default: \"nii_imgs_3D\".')\n",
    "    # parser.add_argument('-j', '--jpgpath', default=\"JPG_imgs_3D\",\n",
    "                        # help='Specify the folder path for .jpg 3D images. Default: \"JPG_imgs_3D\".')\n",
    "    # parser.add_argument('-i', '--info', default=\"Images3D_information.csv\",\n",
    "    # help='Specify name for image information file. Default: \"Images3D_information.csv\"')\n",
    "    # args = parser.parse_args()\n",
    "    # nii_folder_path = args.niipath\n",
    "    # jpg_folder_path = args.jpgpath\n",
    "    # img_info_fn = args.info\n",
    "    convers_nii2jpg()  # , img_info_fn)\n",
    "\n"
   ]
  },
  {
   "cell_type": "code",
   "execution_count": 5,
   "metadata": {},
   "outputs": [
    {
     "data": {
      "image/png": "[encoded data removed]",
      "text/plain": [
       "<Figure size 576x576 with 3 Axes>"
      ]
     },
     "metadata": {
      "needs_background": "light"
     },
     "output_type": "display_data"
    }
   ],
   "source": [
    "nii_folder_path = \"nii_imgs/\"\n",
    "img = nib.load(nii_folder_path+\"labels-139.nii.gz\")\n",
    "\n",
    "# Некоторые картинки могут быть четырехмерными\n",
    "width, height, queue = img.dataobj.shape\n",
    "OrthoSlicer3D(img.dataobj).show()\n"
   ]
  },
  {
   "cell_type": "code",
   "execution_count": null,
   "metadata": {},
   "outputs": [
    {
     "name": "stdout",
     "output_type": "stream",
     "text": [
      "<class 'nibabel.nifti1.Nifti1Header'> object, endian='<'\n",
      "sizeof_hdr      : 348\n",
      "data_type       : b''\n",
      "db_name         : b''\n",
      "extents         : 0\n",
      "session_error   : 0\n",
      "regular         : b'r'\n",
      "dim_info        : 0\n",
      "dim             : [  3 512 512  75   1   1   1   1]\n",
      "intent_p1       : 0.0\n",
      "intent_p2       : 0.0\n",
      "intent_p3       : 0.0\n",
      "intent_code     : none\n",
      "datatype        : int16\n",
      "bitpix          : 16\n",
      "slice_start     : 0\n",
      "pixdim          : [-1.00000e+00  7.03125e-01  7.03125e-01  5.00000e+00  0.00000e+00\n",
      "  1.00000e+00  1.00000e+00  5.22410e+04]\n",
      "vox_offset      : 0.0\n",
      "scl_slope       : nan\n",
      "scl_inter       : nan\n",
      "slice_end       : 0\n",
      "slice_code      : unknown\n",
      "xyzt_units      : 10\n",
      "cal_max         : 0.0\n",
      "cal_min         : 0.0\n",
      "slice_duration  : 0.0\n",
      "toffset         : 0.0\n",
      "glmax           : 255\n",
      "glmin           : 0\n",
      "descrip         : b'None'\n",
      "aux_file        : b'None'\n",
      "qform_code      : scanner\n",
      "sform_code      : scanner\n",
      "quatern_b       : 0.0\n",
      "quatern_c       : 1.0\n",
      "quatern_d       : 0.0\n",
      "qoffset_x       : 172.9\n",
      "qoffset_y       : -179.29688\n",
      "qoffset_z       : -368.0\n",
      "srow_x          : [ -0.703125   0.         0.       172.9     ]\n",
      "srow_y          : [   0.          0.703125    0.       -179.29688 ]\n",
      "srow_z          : [   0.    0.    5. -368.]\n",
      "intent_name     : b''\n",
      "magic           : b'n+1'\n"
     ]
    }
   ],
   "source": [
    "hdr = img.header\n",
    "print(hdr)"
   ]
  },
  {
   "cell_type": "code",
   "execution_count": null,
   "metadata": {},
   "outputs": [],
   "source": []
  }
 ],
 "metadata": {
  "interpreter": {
   "hash": "36cf16204b8548560b1c020c4e8fb5b57f0e4c58016f52f2d4be01e192833930"
  },
  "kernelspec": {
   "display_name": "Python 3.9.6 64-bit",
   "language": "python",
   "name": "python3"
  },
  "language_info": {
   "codemirror_mode": {
    "name": "ipython",
    "version": 3
   },
   "file_extension": ".py",
   "mimetype": "text/x-python",
   "name": "python",
   "nbconvert_exporter": "python",
   "pygments_lexer": "ipython3",
   "version": "3.9.13"
  },
  "orig_nbformat": 4
 },
 "nbformat": 4,
 "nbformat_minor": 2
}
