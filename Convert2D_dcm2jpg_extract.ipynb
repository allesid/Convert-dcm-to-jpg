{
 "cells": [
  {
   "cell_type": "markdown",
   "metadata": {},
   "source": [
    "### Convert 2D dcm images to jpg images"
   ]
  },
  {
   "cell_type": "code",
   "execution_count": 1,
   "metadata": {},
   "outputs": [],
   "source": [
    "import pydicom as dicom\n",
    "import os\n",
    "import cv2\n",
    "import pandas as pd\n"
   ]
  },
  {
   "cell_type": "code",
   "execution_count": 2,
   "metadata": {},
   "outputs": [],
   "source": [
    "# Specify the .dcm folder path\n",
    "folder_path = \"DICOM_imgs\"\n",
    "\n",
    "# Specify the .jpg folder path\n",
    "jpg_folder_path = \"JPG_imgs_2D\"\n",
    "images_path = os.listdir(folder_path)\n",
    "\n",
    "# file \"dicom_image_description_all.csv\" consist of all attributes,\n",
    "# which may be available in dicom image\n",
    "params = pd.read_csv(\"dicom_image_description_all.csv\")\n"
   ]
  },
  {
   "cell_type": "code",
   "execution_count": 3,
   "metadata": {},
   "outputs": [
    {
     "name": "stdout",
     "output_type": "stream",
     "text": [
      "DICOM_imgs/1.2.826.0.1.3680043.2.656.1.138.15.dcm\n",
      "pixel_array_numpy.shape= (512, 512)\n",
      "DICOM_imgs/1.2.826.0.1.3680043.2.656.1.138.100.dcm\n",
      "pixel_array_numpy.shape= (512, 512)\n",
      "DICOM_imgs/1.2.826.0.1.3680043.2.656.1.138.180.dcm\n",
      "pixel_array_numpy.shape= (512, 512)\n",
      "  SpecificCharacterSet                   ImageType InstanceCreationDate  \\\n",
      "0           ISO_IR 100  [ORIGINAL, PRIMARY, AXIAL]             20000101   \n",
      "1           ISO_IR 100  [ORIGINAL, PRIMARY, AXIAL]             20000101   \n",
      "2           ISO_IR 100  [ORIGINAL, PRIMARY, AXIAL]             20000101   \n",
      "\n",
      "  InstanceCreationTime       SOPClassUID                       SOPInstanceUID  \\\n",
      "0               160916  CT Image Storage   1.2.826.0.1.3680043.2.656.1.138.15   \n",
      "1               161048  CT Image Storage  1.2.826.0.1.3680043.2.656.1.138.100   \n",
      "2               161213  CT Image Storage  1.2.826.0.1.3680043.2.656.1.138.180   \n",
      "\n",
      "  StudyDate SeriesDate AcquisitionDate ContentDate  ... Rows Columns  \\\n",
      "0  20000101   20000101        20000101    20000101  ...  512     512   \n",
      "1  20000101   20000101        20000101    20000101  ...  512     512   \n",
      "2  20000101   20000101        20000101    20000101  ...  512     512   \n",
      "\n",
      "           PixelSpacing BitsAllocated BitsStored HighBit PixelRepresentation  \\\n",
      "0  [0.761719, 0.761719]            16         16      15                   1   \n",
      "1  [0.761719, 0.761719]            16         16      15                   1   \n",
      "2  [0.761719, 0.761719]            16         16      15                   1   \n",
      "\n",
      "  RescaleIntercept RescaleSlope                 PixelData  \n",
      "0          -1024.0          1.0  Array of 524288 elements  \n",
      "1          -1024.0          1.0  Array of 524288 elements  \n",
      "2          -1024.0          1.0  Array of 524288 elements  \n",
      "\n",
      "[3 rows x 50 columns]\n"
     ]
    }
   ],
   "source": [
    "# Convertation\n",
    "for n, image in enumerate(images_path):\n",
    "    ds = dicom.dcmread(os.path.join(folder_path, image))\n",
    "    print(ds.filename)\n",
    "    pixel_array_numpy = ds.pixel_array\n",
    "    print('pixel_array_numpy.shape=', pixel_array_numpy.shape)\n",
    "    image = image.replace('.dcm', '.jpg')\n",
    "    cv2.imwrite(os.path.join(jpg_folder_path,\n",
    "                str(n)+\"_\"+image), pixel_array_numpy)\n",
    "    lp = len(params)\n",
    "    # extract image information\n",
    "    for field in params.columns:\n",
    "        try:\n",
    "            if ds.data_element(field) is None:\n",
    "                params.loc[lp, field] = None\n",
    "            else:\n",
    "                x = str(ds.data_element(field)).replace(\"'\", \"\")\n",
    "                y = x.find(\":\")\n",
    "                x = x[y+2:]\n",
    "                params.loc[lp, field] = x\n",
    "        except:\n",
    "            params.loc[lp, field] = None\n",
    "params = params.dropna(axis=1, how='all')\n",
    "# information about images saved in file Images2D_information.csv\n",
    "params.to_csv('Images2D_information.csv')"
   ]
  },
  {
   "cell_type": "code",
   "execution_count": null,
   "metadata": {},
   "outputs": [],
   "source": []
  },
  {
   "cell_type": "code",
   "execution_count": null,
   "metadata": {},
   "outputs": [],
   "source": []
  }
 ],
 "metadata": {
  "interpreter": {
   "hash": "36cf16204b8548560b1c020c4e8fb5b57f0e4c58016f52f2d4be01e192833930"
  },
  "kernelspec": {
   "display_name": "Python 3.9.6 64-bit",
   "language": "python",
   "name": "python3"
  },
  "language_info": {
   "codemirror_mode": {
    "name": "ipython",
    "version": 3
   },
   "file_extension": ".py",
   "mimetype": "text/x-python",
   "name": "python",
   "nbconvert_exporter": "python",
   "pygments_lexer": "ipython3",
   "version": "3.9.6"
  },
  "orig_nbformat": 4
 },
 "nbformat": 4,
 "nbformat_minor": 2
}
