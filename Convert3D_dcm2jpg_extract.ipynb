{
 "cells": [
  {
   "cell_type": "markdown",
   "metadata": {},
   "source": [
    "### Convert 3D dcm images to jpg images\n"
   ]
  },
  {
   "cell_type": "code",
   "execution_count": 5,
   "metadata": {},
   "outputs": [],
   "source": [
    "import pydicom as dicom\n",
    "import os\n",
    "import cv2\n",
    "import pandas as pd\n"
   ]
  },
  {
   "cell_type": "code",
   "execution_count": 6,
   "metadata": {},
   "outputs": [],
   "source": [
    "# Specify the .dcm folder path\n",
    "folder_path = \"DCM_imgs_3D\"\n",
    "\n",
    "# Specify the .jpg folder path\n",
    "jpg_folder_path = \"JPG_imgs_3D\"\n",
    "images_path = os.listdir(folder_path)\n",
    "\n",
    "# file \"dicom_image_description_all.csv\" consist of all attributes,\n",
    "# which may be available in dicom image\n",
    "params = pd.read_csv(\"dicom_image_description.csv\")\n"
   ]
  },
  {
   "cell_type": "code",
   "execution_count": 7,
   "metadata": {},
   "outputs": [
    {
     "name": "stdout",
     "output_type": "stream",
     "text": [
      "DICOM_imgs/1-23d0cedb4783163b53dfbc83daae1c6c.dcm\n",
      "pixel_array_numpy.shape= (281, 436, 436)\n",
      "0 images converted\n",
      "100 images converted\n",
      "200 images converted\n"
     ]
    }
   ],
   "source": [
    "# Convertation\n",
    "\n",
    "for n, image in enumerate(images_path):\n",
    "    ds = dicom.dcmread(os.path.join(folder_path, image))\n",
    "    # specific_tags = list(params.columns)[:10], force=True\n",
    "    print(ds.filename)\n",
    "    pixel_array_numpy = ds.pixel_array\n",
    "    print('pixel_array_numpy.shape=', pixel_array_numpy.shape)\n",
    "    image = image.replace('.dcm', '.jpg')\n",
    "    for i in range(pixel_array_numpy.shape[0]):\n",
    "        cv2.imwrite(os.path.join(jpg_folder_path,\n",
    "                    str(n)+\"_\"+str(i)+\"_\"+image), pixel_array_numpy[i,:,:])\n",
    "        if i % 100 == 0:\n",
    "            print('{} images converted'.format(i))\n",
    "        lp = len(params)\n",
    "        for field in params.columns:\n",
    "            try:\n",
    "                if ds.data_element(field) is None:\n",
    "                   params.loc[lp, field] = None\n",
    "                else:\n",
    "                    x = str(ds.data_element(field)).replace(\"'\", \"\")\n",
    "                    y = x.find(\":\")\n",
    "                    x = x[y+2:]\n",
    "                    params.loc[lp, field] = x\n",
    "            except:\n",
    "                params.loc[lp, field] = None\n",
    "                \n",
    "params = params.dropna(axis=1, how='all')\n",
    "\n",
    "# information about images saved in file Images3D_information.csv\n",
    "params.to_csv('Images3D_information.csv')\n"
   ]
  }
 ],
 "metadata": {
  "interpreter": {
   "hash": "36cf16204b8548560b1c020c4e8fb5b57f0e4c58016f52f2d4be01e192833930"
  },
  "kernelspec": {
   "display_name": "Python 3.9.6 64-bit",
   "language": "python",
   "name": "python3"
  },
  "language_info": {
   "codemirror_mode": {
    "name": "ipython",
    "version": 3
   },
   "file_extension": ".py",
   "mimetype": "text/x-python",
   "name": "python",
   "nbconvert_exporter": "python",
   "pygments_lexer": "ipython3",
   "version": "3.9.10"
  },
  "orig_nbformat": 4
 },
 "nbformat": 4,
 "nbformat_minor": 2
}
